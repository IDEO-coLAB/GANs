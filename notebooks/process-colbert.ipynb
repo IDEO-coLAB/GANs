{
 "cells": [
  {
   "cell_type": "markdown",
   "metadata": {},
   "source": [
    "# Global params"
   ]
  },
  {
   "cell_type": "code",
   "execution_count": 1,
   "metadata": {
    "collapsed": true
   },
   "outputs": [],
   "source": [
    "src_directory = '/Users/rwilliams/Desktop/colbert/src'\n",
    "dest_directory = '/Users/rwilliams/Desktop/colbert/dest'"
   ]
  },
  {
   "cell_type": "markdown",
   "metadata": {},
   "source": [
    "# Imports and helper functions"
   ]
  },
  {
   "cell_type": "code",
   "execution_count": 96,
   "metadata": {
    "collapsed": true
   },
   "outputs": [],
   "source": [
    "import matplotlib.pyplot as plt\n",
    "import numpy as np\n",
    "import scipy as sp\n",
    "import skimage.exposure\n",
    "from skimage.transform import resize\n",
    "from skimage.util import crop\n",
    "import os\n",
    "%matplotlib inline\n",
    "\n",
    "def resize_crop(img):\n",
    "    crops = ((25, 439), (512, 512), (0, 0))\n",
    "    cropped = crop(img, crops)\n",
    "    processed = resize(cropped, (128, 128))\n",
    "    processed = skimage.exposure.equalize_adapthist(processed)\n",
    "    return processed\n",
    "\n",
    "def load_img(id):\n",
    "    filename = 'out%s.png' % id\n",
    "    path = os.path.join(src_directory, filename)\n",
    "    return sp.ndimage.imread(path)\n",
    "\n",
    "def save_img(img, id):\n",
    "    filename = '%06d.jpg' % id\n",
    "    path = os.path.join(dest_directory, filename)\n",
    "    sp.misc.imsave(path, img)"
   ]
  },
  {
   "cell_type": "code",
   "execution_count": 101,
   "metadata": {},
   "outputs": [
    {
     "name": "stderr",
     "output_type": "stream",
     "text": [
      "/Users/rwilliams/anaconda/envs/keras/lib/python3.6/site-packages/skimage/transform/_warps.py:84: UserWarning: The default mode, 'constant', will be changed to 'reflect' in skimage 0.15.\n",
      "  warn(\"The default mode, 'constant', will be changed to 'reflect' in \"\n",
      "/Users/rwilliams/anaconda/envs/keras/lib/python3.6/site-packages/skimage/util/dtype.py:122: UserWarning: Possible precision loss when converting from float64 to uint16\n",
      "  .format(dtypeobj_in, dtypeobj_out))\n",
      "/Users/rwilliams/anaconda/envs/keras/lib/python3.6/site-packages/skimage/exposure/exposure.py:297: RuntimeWarning: invalid value encountered in true_divide\n",
      "  image = (image - imin) / float(imax - imin)\n"
     ]
    }
   ],
   "source": [
    "for i in range(7573):\n",
    "    img = load_img(i+1)\n",
    "    transf = resize_crop(img)\n",
    "    save_img(transf, i+1)"
   ]
  }
 ],
 "metadata": {
  "kernelspec": {
   "display_name": "Python 3",
   "language": "python",
   "name": "python3"
  },
  "language_info": {
   "codemirror_mode": {
    "name": "ipython",
    "version": 3
   },
   "file_extension": ".py",
   "mimetype": "text/x-python",
   "name": "python",
   "nbconvert_exporter": "python",
   "pygments_lexer": "ipython3",
   "version": "3.6.3"
  }
 },
 "nbformat": 4,
 "nbformat_minor": 2
}
