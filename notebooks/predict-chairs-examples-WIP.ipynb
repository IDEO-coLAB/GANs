{
 "cells": [
  {
   "cell_type": "code",
   "execution_count": 2,
   "metadata": {},
   "outputs": [],
   "source": [
    "from sklearn.preprocessing import StandardScaler\n",
    "from sklearn.tree import DecisionTreeClassifier\n",
    "from sklearn.model_selection import cross_val_predict\n",
    "from sklearn.metrics import confusion_matrix\n",
    "import numpy as np"
   ]
  },
  {
   "cell_type": "code",
   "execution_count": 30,
   "metadata": {},
   "outputs": [],
   "source": [
    "yeschairs = np.loadtxt(\"yeschairs.csv\", delimiter=\",\")\n",
    "labels = np.repeat(1, yeschairs.shape[0])\n",
    "\n",
    "nochairs = np.loadtxt(\"nochairs.csv\", delimiter=\",\")\n",
    "labels = np.concatenate((labels, np.repeat(0, nochairs.shape[0])))\n",
    "\n",
    "x_raw = np.concatenate([yeschairs, nochairs])"
   ]
  },
  {
   "cell_type": "code",
   "execution_count": 28,
   "metadata": {},
   "outputs": [],
   "source": [
    "similar_chairs = yeschairs[0,:] + np.random.normal(size=(20, 16), scale=0.01)\n",
    "x_raw = np.concatenate([similar_chairs, nochairs])"
   ]
  },
  {
   "cell_type": "code",
   "execution_count": 33,
   "metadata": {},
   "outputs": [
    {
     "name": "stdout",
     "output_type": "stream",
     "text": [
      "[0 0 0 0 0 0 0 0 0 0 0 0 0 0 0 0 0 0 0 0 0 0 0 0 0 0 0 0 0 0 0 0 0 0 0 0 0\n",
      " 0 0 0]\n",
      "[[20  0]\n",
      " [20  0]]\n"
     ]
    }
   ],
   "source": [
    "# Most machine learning algorithms expect training data to be scaled so that \n",
    "# data values are between 0 and 1 or near 0. The chair genome data is already centered around\n",
    "# 0 but its good practice to scale it anyway.\n",
    "# This creates a scaler object\n",
    "scaler = StandardScaler()\n",
    "\n",
    "# Create a decision tree machine learning classifier\n",
    "dt = DecisionTreeClassifier(max_depth=100)\n",
    "\n",
    "# Create \"training data\" which is really just 100\n",
    "training = scaler.fit_transform(x_raw)\n",
    "\n",
    "Ypred = cross_val_predict(dt, training, labels, cv=3)\n",
    "print(Ypred)\n",
    "print(confusion_matrix(labels, Ypred))"
   ]
  },
  {
   "cell_type": "code",
   "execution_count": 35,
   "metadata": {},
   "outputs": [
    {
     "data": {
      "text/plain": [
       "array([ True])"
      ]
     },
     "execution_count": 35,
     "metadata": {},
     "output_type": "execute_result"
    }
   ],
   "source": [
    "dt.fit(training, labels)\n",
    "dt.predict([[.5, .5, .5]])"
   ]
  }
 ],
 "metadata": {
  "kernelspec": {
   "display_name": "Python 3",
   "language": "python",
   "name": "python3"
  },
  "language_info": {
   "codemirror_mode": {
    "name": "ipython",
    "version": 3
   },
   "file_extension": ".py",
   "mimetype": "text/x-python",
   "name": "python",
   "nbconvert_exporter": "python",
   "pygments_lexer": "ipython3",
   "version": "3.6.5"
  }
 },
 "nbformat": 4,
 "nbformat_minor": 2
}
