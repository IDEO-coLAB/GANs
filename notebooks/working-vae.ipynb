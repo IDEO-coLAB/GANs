{
 "cells": [
  {
   "cell_type": "code",
   "execution_count": 1,
   "metadata": {
    "collapsed": true
   },
   "outputs": [],
   "source": [
    "# Setup\n",
    "\n",
    "# img_directory = '/Users/rwilliams/Desktop/celeba/training'\n",
    "img_directory = '/home/ec2-user/training-data/img_align_celeba'\n",
    "model_save_path = '/home/ec2-user/tf-checkpoints/vae-celeba/checkpoint.ckpt'\n",
    "outputs_directory = '/home/ec2-user/outputs/vae-celeba'\n",
    "log_directory = '/home/ec2-user/tf-logs/vae-celeba'\n",
    "batch_size = 64\n",
    "training_set_size = 5000\n",
    "img_size = 64\n",
    "\n",
    "# for adam optimizer\n",
    "learning_rate = 2e-4\n",
    "learning_beta1 = 0.9"
   ]
  },
  {
   "cell_type": "code",
   "execution_count": 2,
   "metadata": {
    "collapsed": true
   },
   "outputs": [],
   "source": [
    "# import packages for jupyter\n",
    "# import matplotlib.pyplot as plt\n",
    "# %matplotlib inline"
   ]
  },
  {
   "cell_type": "code",
   "execution_count": 3,
   "metadata": {
    "collapsed": true
   },
   "outputs": [],
   "source": [
    "# imports\n",
    "\n",
    "import numpy as np\n",
    "import scipy as sp\n",
    "import os\n",
    "from utils import imshow, resize_crop, load_img"
   ]
  },
  {
   "cell_type": "code",
   "execution_count": 4,
   "metadata": {},
   "outputs": [
    {
     "name": "stderr",
     "output_type": "stream",
     "text": [
      "/home/ec2-user/.conda/envs/keras/lib/python3.6/site-packages/skimage/transform/_warps.py:84: UserWarning: The default mode, 'constant', will be changed to 'reflect' in skimage 0.15.\n",
      "  warn(\"The default mode, 'constant', will be changed to 'reflect' in \"\n"
     ]
    }
   ],
   "source": [
    "# load training data\n",
    "\n",
    "training = np.array([resize_crop(load_img(i+1, img_directory), (img_size, img_size)) for i in range(training_set_size)])"
   ]
  },
  {
   "cell_type": "code",
   "execution_count": 5,
   "metadata": {
    "collapsed": true
   },
   "outputs": [],
   "source": [
    "# Create model and load weights\n",
    "\n",
    "import tensorflow as tf\n",
    "from autoencoder import Autoencoder\n",
    "tf.reset_default_graph()\n",
    "\n",
    "vae = Autoencoder(img_shape=(img_size, img_size, 3))\n",
    "\n",
    "X = tf.placeholder(tf.float32, [None, img_size, img_size, 3])\n",
    "\n",
    "# flags to pass to networks to set batch normalization layers\n",
    "# as trainable or not\n",
    "batch_trainable = tf.placeholder(tf.bool)\n",
    "\n",
    "encoder = vae.encoder(X, batch_trainable)\n",
    "decoder = vae.decoder(encoder, batch_trainable)\n",
    "\n",
    "xentropy = tf.nn.sigmoid_cross_entropy_with_logits(labels=X, logits=vae.logits)\n",
    "latent_loss = vae.latent_loss()\n",
    "reconstruction_loss = tf.reduce_mean(xentropy)\n",
    "loss = reconstruction_loss + latent_loss\n",
    "\n",
    "update_ops = tf.get_collection(tf.GraphKeys.UPDATE_OPS)\n",
    "optimizer = tf.train.AdamOptimizer(learning_rate=learning_rate, beta1=learning_beta1)\n",
    "\n",
    "with tf.control_dependencies(update_ops):\n",
    "    training_op = optimizer.minimize(loss)\n",
    "\n",
    "saver = tf.train.Saver()"
   ]
  },
  {
   "cell_type": "code",
   "execution_count": 6,
   "metadata": {},
   "outputs": [
    {
     "name": "stdout",
     "output_type": "stream",
     "text": [
      "trying to restore session\n",
      "INFO:tensorflow:Restoring parameters from /home/ec2-user/tf-checkpoints/vae-celeba/checkpoint.ckpt\n",
      "failed to restore session, creating a new one\n"
     ]
    }
   ],
   "source": [
    "# create or restore session\n",
    "\n",
    "sess = tf.InteractiveSession()\n",
    "try:\n",
    "    print('trying to restore session')\n",
    "    saver.restore(sess, model_save_path)\n",
    "    print('restored session')\n",
    "except:\n",
    "    print('failed to restore session, creating a new one')\n",
    "    tf.global_variables_initializer().run()\n",
    "\n",
    "# write logs for tensorboard\n",
    "writer = tf.summary.FileWriter(log_directory, sess.graph)"
   ]
  },
  {
   "cell_type": "code",
   "execution_count": null,
   "metadata": {
    "collapsed": true
   },
   "outputs": [],
   "source": [
    "# collect data for tensorboard\n",
    "tf.summary.scalar('latent_loss', latent_loss)\n",
    "tf.summary.scalar('reconstruction_loss', reconstruction_loss)\n",
    "tf.summary.scalar('total_loss', loss)\n",
    "merged_summary = tf.summary.merge_all()"
   ]
  },
  {
   "cell_type": "code",
   "execution_count": null,
   "metadata": {
    "scrolled": false
   },
   "outputs": [
    {
     "name": "stdout",
     "output_type": "stream",
     "text": [
      "training\n",
      "epoch 0 ..............................................................................saving session\n",
      "epoch 1 ..............................................................................saving session\n",
      "epoch 2 ..............................................................................saving session\n",
      "epoch 3 ..............................................................................saving session\n",
      "epoch 4 ..............................................................................saving session\n",
      "epoch 5 ..............................................................................saving session\n",
      "epoch 6 ..............................................................................saving session\n",
      "epoch 7 ..............................................................................saving session\n",
      "epoch 8 ..............................................................................saving session\n",
      "epoch 9 ..............................................................................saving session\n",
      "epoch 10 ..............................................................................saving session\n",
      "epoch 11 ..............................................................................saving session\n",
      "epoch 12 ..............................................................................saving session\n",
      "epoch 13 ..............................................................................saving session\n",
      "epoch 14 ..............................................................................saving session\n",
      "epoch 15 ..............................................................................saving session\n",
      "epoch 16 ..............................................................................saving session\n",
      "epoch 17 ..............................................................................saving session\n",
      "epoch 18 ..............................................................................saving session\n",
      "epoch 19 ..............................................................................saving session\n",
      "epoch 20 ..............................................................................saving session\n",
      "epoch 21 ..............................................................................saving session\n",
      "epoch 22 ..............................................................................saving session\n",
      "epoch 23 ..............................................................................saving session\n",
      "epoch 24 ..............................................................................saving session\n",
      "epoch 25 ..............................................................................saving session\n",
      "epoch 26 ..............................................................................saving session\n",
      "epoch 27 ..............................................................................saving session\n",
      "epoch 28 ..............................................................................saving session\n",
      "epoch 29 ..............................................................................saving session\n",
      "epoch 30 ..............................................................................saving session\n",
      "epoch 31 ..............................................................................saving session\n",
      "epoch 32 ..............................................................................saving session\n",
      "epoch 33 ..............................................................................saving session\n",
      "epoch 34 ..............................................................................saving session\n",
      "epoch 35 ..............................................................................saving session\n",
      "epoch 36 ..............................................................................saving session\n",
      "epoch 37 ..............................................................................saving session\n",
      "epoch 38 ..............................................................................saving session\n",
      "epoch 39 ..............................................................................saving session\n",
      "epoch 40 ..............................................................................saving session\n",
      "epoch 41 ..............................................................................saving session\n",
      "epoch 42 ..............................................................................saving session\n",
      "epoch 43 ..............................................................................saving session\n",
      "epoch 44 ..............................................................................saving session\n",
      "epoch 45 ..............................................................................saving session\n",
      "epoch 46 ..............................................................................saving session\n",
      "epoch 47 ..............................................................................saving session\n",
      "epoch 48 ..............................................................................saving session\n",
      "epoch 49 ..............................................................................saving session\n",
      "epoch 50 ..............................................................................saving session\n",
      "epoch 51 ..............................................................................saving session\n",
      "epoch 52 ..............................................................................saving session\n",
      "epoch 53 ..............................................................................saving session\n",
      "epoch 54 ..............................................................................saving session\n",
      "epoch 55 ..............................................................................saving session\n",
      "epoch 56 ..............................................................................saving session\n",
      "epoch 57 ..............................................................................saving session\n",
      "epoch 58 ..............................................................................saving session\n",
      "epoch 59 ..............................................................................saving session\n",
      "epoch 60 ..............................................................................saving session\n",
      "epoch 61 ..............................................................................saving session\n",
      "epoch 62 ..............................................................................saving session\n",
      "epoch 63 ..............................................................................saving session\n",
      "epoch 64 ..............................................................................saving session\n",
      "epoch 65 ..............................................................................saving session\n",
      "epoch 66 ..............................................................................saving session\n",
      "epoch 67 ..............................................................................saving session\n",
      "epoch 68 ..............................................................................saving session\n",
      "epoch 69 ..............................................................................saving session\n",
      "epoch 70 ..............................................................................saving session\n",
      "epoch 71 ..............................................................................saving session\n",
      "epoch 72 ..............................................................................saving session\n",
      "epoch 73 ..............................................................................saving session\n",
      "epoch 74 ..............................................................................saving session\n",
      "epoch 75 ..............................................................................saving session\n",
      "epoch 76 ..............................................................................saving session\n",
      "epoch 77 ..............................................................................saving session\n",
      "epoch 78 ..............................................................................saving session\n",
      "epoch 79 ..............................................................................saving session\n",
      "epoch 80 ..............................................................................saving session\n",
      "epoch 81 ..............................................................................saving session\n",
      "epoch 82 ..............................................................................saving session\n",
      "epoch 83 ..............................................................................saving session\n",
      "epoch 84 ..............................................................................saving session\n",
      "epoch 85 ..............................................................................saving session\n",
      "epoch 86 ..............................................................................saving session\n",
      "epoch 87 ..............................................................................saving session\n",
      "epoch 88 ..............................................................................saving session\n",
      "epoch 89 ..............................................................................saving session\n",
      "epoch 90 ..............................................................................saving session\n",
      "epoch 91 ..............................................................................saving session\n",
      "epoch 92 ..............................................................................saving session\n",
      "epoch 93 ..............................................................................saving session\n",
      "epoch 94 ..............................................................................saving session\n",
      "epoch 95 ..............................................................................saving session\n",
      "epoch 96 ..............................................................................saving session\n",
      "epoch 97 ..............................................................................saving session\n",
      "epoch 98 ..............................................................................saving session\n",
      "epoch 99 ..............................................................................saving session\n",
      "epoch 100 ..............................................................................saving session\n",
      "epoch 101 ..............................................................................saving session\n",
      "epoch 102 ..............................................................................saving session\n",
      "epoch 103 ..............................................................................saving session\n",
      "epoch 104 ..............................................................................saving session\n",
      "epoch 105 ..............................................................................saving session\n",
      "epoch 106 ..............................................................................saving session\n",
      "epoch 107 ..............................................................................saving session\n",
      "epoch 108 ..............................................................................saving session\n",
      "epoch 109 ..............................................................................saving session\n",
      "epoch 110 ..............................................................................saving session\n",
      "epoch 111 ..............................................................................saving session\n",
      "epoch 112 ..............................................................................saving session\n",
      "epoch 113 ..............................................................................saving session\n",
      "epoch 114 ..............................................................................saving session\n",
      "epoch 115 ..............................................................................saving session\n",
      "epoch 116 ..............................................................................saving session\n",
      "epoch 117 ..............................................................................saving session\n",
      "epoch 118 ..............................................................................saving session\n",
      "epoch 119 ..............................................................................saving session\n",
      "epoch 120 ..............................................................................saving session\n",
      "epoch 121 ..............................................................................saving session\n",
      "epoch 122 ..............................................................................saving session\n",
      "epoch 123 ..............................................................................saving session\n",
      "epoch 124 ..............................................................................saving session\n",
      "epoch 125 ..............................................................................saving session\n",
      "epoch 126 ..............................................................................saving session\n",
      "epoch 127 ..............................................................................saving session\n",
      "epoch 128 ..............................................................................saving session\n",
      "epoch 129 ..............................................................................saving session\n",
      "epoch 130 ..............................................................................saving session\n",
      "epoch 131 ..............................................................................saving session\n",
      "epoch 132 ..............................................................................saving session\n",
      "epoch 133 ..............................................................................saving session\n",
      "epoch 134 ..............................................................................saving session\n",
      "epoch 135 ..............................................................................saving session\n",
      "epoch 136 ..............................................................................saving session\n",
      "epoch 137 ..............................................................................saving session\n",
      "epoch 138 ..............................................................................saving session\n",
      "epoch 139 ..........................................."
     ]
    }
   ],
   "source": [
    "import math\n",
    "epochs = 10000\n",
    "batches = int(float(training_set_size) / batch_size) \n",
    "\n",
    "img_idx = 0\n",
    "print('training', flush=True)\n",
    "for epoch in range(epochs):\n",
    "    \n",
    "    print ('epoch %s ' % epoch, end='', flush=True)\n",
    "    for batch in range(batches):\n",
    "        print('.', end='', flush=True)\n",
    "        feed = training[batch*batch_size:(batch+1)*batch_size]\n",
    "        sess.run(training_op, feed_dict={X: feed, batch_trainable: True})\n",
    "        \n",
    "    if (epoch % 1 == 0):\n",
    "        print('saving session', flush=True)\n",
    "        saver.save(sess, model_save_path)\n",
    "        \n",
    "        xfeed = training[:batch_size]\n",
    "        summary = merged_summary.eval(feed_dict={X: xfeed, batch_trainable: False})\n",
    "        writer.add_summary(summary, epoch) \n",
    "\n",
    "        example = decoder.eval(feed_dict={X: training[:1], batch_trainable: False})\n",
    "        img_save_path = os.path.join(outputs_directory, '%06d.jpg' % img_idx)\n",
    "        img_idx += 1\n",
    "        sp.misc.imsave(img_save_path, example[0])"
   ]
  }
 ],
 "metadata": {
  "kernelspec": {
   "display_name": "Python 3",
   "language": "python",
   "name": "python3"
  },
  "language_info": {
   "codemirror_mode": {
    "name": "ipython",
    "version": 3
   },
   "file_extension": ".py",
   "mimetype": "text/x-python",
   "name": "python",
   "nbconvert_exporter": "python",
   "pygments_lexer": "ipython3",
   "version": "3.6.2"
  }
 },
 "nbformat": 4,
 "nbformat_minor": 2
}
