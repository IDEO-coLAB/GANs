{
 "cells": [
  {
   "cell_type": "code",
   "execution_count": 10,
   "metadata": {
    "collapsed": true
   },
   "outputs": [],
   "source": [
    "import tensorflow as tf\n",
    "\n",
    "checkpoint = '/Users/rwilliams/Desktop/checkpoints/v.1/simpsons 64x64/overnight VAE, hours GAN/checkpoints/checkpoint.ckpt.index'"
   ]
  },
  {
   "cell_type": "code",
   "execution_count": 11,
   "metadata": {},
   "outputs": [
    {
     "data": {
      "text/plain": [
       "[]"
      ]
     },
     "execution_count": 11,
     "metadata": {},
     "output_type": "execute_result"
    }
   ],
   "source": [
    "sess = tf.InteractiveSession()\n",
    "tf.contrib.framework.list_variables(checkpoint)"
   ]
  },
  {
   "cell_type": "code",
   "execution_count": null,
   "metadata": {
    "collapsed": true
   },
   "outputs": [],
   "source": [
    "import sys, getopt\n",
    "\n",
    "import tensorflow as tf\n",
    "\n",
    "usage_str = 'python tensorflow_rename_variables.py --checkpoint_dir=path/to/dir/ ' \\\n",
    "            '--replace_from=substr --replace_to=substr --add_prefix=abc --dry_run'\n",
    "\n",
    "\n",
    "def rename(checkpoint_dir, replace_from, replace_to, add_prefix, dry_run):\n",
    "    checkpoint = tf.train.get_checkpoint_state(checkpoint_dir)\n",
    "    with tf.Session() as sess:\n",
    "        for var_name, _ in tf.contrib.framework.list_variables(checkpoint_dir):\n",
    "            # Load the variable\n",
    "            var = tf.contrib.framework.load_variable(checkpoint_dir, var_name)\n",
    "\n",
    "            # Set the new name\n",
    "            new_name = var_name\n",
    "            if None not in [replace_from, replace_to]:\n",
    "                new_name = new_name.replace(replace_from, replace_to)\n",
    "            if add_prefix:\n",
    "                new_name = add_prefix + new_name\n",
    "\n",
    "            if dry_run:\n",
    "                print('%s would be renamed to %s.' % (var_name, new_name))\n",
    "            else:\n",
    "                print('Renaming %s to %s.' % (var_name, new_name))\n",
    "                # Rename the variable\n",
    "                var = tf.Variable(var, name=new_name)\n",
    "\n",
    "        if not dry_run:\n",
    "            # Save the variables\n",
    "            saver = tf.train.Saver()\n",
    "            sess.run(tf.global_variables_initializer())\n",
    "            saver.save(sess, checkpoint.model_checkpoint_path)\n",
    "\n",
    "\n",
    "def main(argv):\n",
    "    checkpoint_dir = None\n",
    "    replace_from = None\n",
    "    replace_to = None\n",
    "    add_prefix = None\n",
    "    dry_run = False\n",
    "\n",
    "    try:\n",
    "        opts, args = getopt.getopt(argv, 'h', ['help=', 'checkpoint_dir=', 'replace_from=',\n",
    "                                               'replace_to=', 'add_prefix=', 'dry_run'])\n",
    "    except getopt.GetoptError:\n",
    "        print(usage_str)\n",
    "        sys.exit(2)\n",
    "    for opt, arg in opts:\n",
    "        if opt in ('-h', '--help'):\n",
    "            print(usage_str)\n",
    "            sys.exit()\n",
    "        elif opt == '--checkpoint_dir':\n",
    "            checkpoint_dir = arg\n",
    "        elif opt == '--replace_from':\n",
    "            replace_from = arg\n",
    "        elif opt == '--replace_to':\n",
    "            replace_to = arg\n",
    "        elif opt == '--add_prefix':\n",
    "            add_prefix = arg\n",
    "        elif opt == '--dry_run':\n",
    "            dry_run = True\n",
    "\n",
    "    if not checkpoint_dir:\n",
    "        print('Please specify a checkpoint_dir. Usage:')\n",
    "        print(usage_str)\n",
    "        sys.exit(2)\n",
    "\n",
    "    rename(checkpoint_dir, replace_from, replace_to, add_prefix, dry_run)\n",
    "\n",
    "\n",
    "if __name__ == '__main__':\n",
    "    main(sys.argv[1:])"
   ]
  }
 ],
 "metadata": {
  "kernelspec": {
   "display_name": "Python 3",
   "language": "python",
   "name": "python3"
  },
  "language_info": {
   "codemirror_mode": {
    "name": "ipython",
    "version": 3
   },
   "file_extension": ".py",
   "mimetype": "text/x-python",
   "name": "python",
   "nbconvert_exporter": "python",
   "pygments_lexer": "ipython3",
   "version": "3.6.2"
  }
 },
 "nbformat": 4,
 "nbformat_minor": 2
}
