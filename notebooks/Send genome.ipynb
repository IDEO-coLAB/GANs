{
 "cells": [
  {
   "cell_type": "code",
   "execution_count": 16,
   "metadata": {},
   "outputs": [
    {
     "data": {
      "text/plain": [
       "'0.57,-0.11,-1.23,-1.1,-1.7,-1.31,0.12,0.03,-1.11,-0.01,-0.73,0.32,-1.59,-0.21,0.22,-1.15'"
      ]
     },
     "execution_count": 16,
     "metadata": {},
     "output_type": "execute_result"
    }
   ],
   "source": [
    "import struct\n",
    "import base64\n",
    "import numpy as np\n",
    "x = np.random.normal(scale=1.0, size=(64, 16)).astype('float32')\n",
    "rounded = np.round(x[0,:], 2)\n",
    "packed = [str(x) for x in rounded]\n",
    "genome = ','.join(packed)\n",
    "genome"
   ]
  },
  {
   "cell_type": "code",
   "execution_count": 22,
   "metadata": {},
   "outputs": [
    {
     "data": {
      "text/plain": [
       "array([ 0.57, -0.11, -1.23, -1.1 , -1.7 , -1.31,  0.12,  0.03, -1.11,\n",
       "       -0.01, -0.73,  0.32, -1.59, -0.21,  0.22, -1.15])"
      ]
     },
     "execution_count": 22,
     "metadata": {},
     "output_type": "execute_result"
    }
   ],
   "source": [
    "y = genome.split(',')\n",
    "unpacked = [float(x) for x in y]\n",
    "newGenome = np.array(unpacked)\n",
    "newGenome"
   ]
  },
  {
   "cell_type": "code",
   "execution_count": null,
   "metadata": {},
   "outputs": [],
   "source": []
  }
 ],
 "metadata": {
  "kernelspec": {
   "display_name": "Python 3",
   "language": "python",
   "name": "python3"
  },
  "language_info": {
   "codemirror_mode": {
    "name": "ipython",
    "version": 3
   },
   "file_extension": ".py",
   "mimetype": "text/x-python",
   "name": "python",
   "nbconvert_exporter": "python",
   "pygments_lexer": "ipython3",
   "version": "3.6.5"
  }
 },
 "nbformat": 4,
 "nbformat_minor": 2
}
