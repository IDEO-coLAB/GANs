{
 "cells": [
  {
   "cell_type": "markdown",
   "metadata": {},
   "source": [
    "# Global params"
   ]
  },
  {
   "cell_type": "code",
   "execution_count": 9,
   "metadata": {
    "collapsed": true
   },
   "outputs": [],
   "source": [
    "src_directory = '/Users/rwilliams/Desktop/celeba/training/img_align_celeba'\n",
    "dest_directory = '/Users/rwilliams/Desktop/celeba/training/64x64'"
   ]
  },
  {
   "cell_type": "markdown",
   "metadata": {},
   "source": [
    "# Imports and helper functions"
   ]
  },
  {
   "cell_type": "code",
   "execution_count": 10,
   "metadata": {
    "collapsed": true
   },
   "outputs": [],
   "source": [
    "import numpy as np\n",
    "from PIL import Image\n",
    "import os\n",
    "from utils import resize_crop\n",
    "from feed import Feed"
   ]
  },
  {
   "cell_type": "code",
   "execution_count": 11,
   "metadata": {},
   "outputs": [
    {
     "name": "stderr",
     "output_type": "stream",
     "text": [
      "/Users/rwilliams/anaconda/envs/keras/lib/python3.6/site-packages/skimage/transform/_warps.py:84: UserWarning: The default mode, 'constant', will be changed to 'reflect' in skimage 0.15.\n",
      "  warn(\"The default mode, 'constant', will be changed to 'reflect' in \"\n"
     ]
    }
   ],
   "source": [
    "bs = 1024 # batch size\n",
    "out = 0 # out index\n",
    "\n",
    "feed = Feed(src_directory, bs)\n",
    "for batch in range(feed.nbatches()):\n",
    "    imgsarray = feed.feed(batch)\n",
    "                    \n",
    "    imgs = [imgsarray[i,:,:,:] for i in range(bs)]\n",
    "    resized = [resize_crop(i, (64, 64)) for i in imgs]\n",
    "    as_ints = [(i * 255.0).astype('uint8') for i in resized]\n",
    "        \n",
    "    paths = [os.path.join(dest_directory, ('%06d.jpg' % i)) for i in range(out, out+bs)]\n",
    "    for im, p in zip(as_ints, paths):\n",
    "        Image.fromarray(im).save(p)\n",
    "    out += bs"
   ]
  }
 ],
 "metadata": {
  "kernelspec": {
   "display_name": "Python 3",
   "language": "python",
   "name": "python3"
  },
  "language_info": {
   "codemirror_mode": {
    "name": "ipython",
    "version": 3
   },
   "file_extension": ".py",
   "mimetype": "text/x-python",
   "name": "python",
   "nbconvert_exporter": "python",
   "pygments_lexer": "ipython3",
   "version": "3.6.2"
  }
 },
 "nbformat": 4,
 "nbformat_minor": 2
}
