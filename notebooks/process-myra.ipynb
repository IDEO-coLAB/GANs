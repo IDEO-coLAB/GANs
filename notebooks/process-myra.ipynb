{
 "cells": [
  {
   "cell_type": "markdown",
   "metadata": {},
   "source": [
    "# Global params"
   ]
  },
  {
   "cell_type": "code",
   "execution_count": 4,
   "metadata": {
    "collapsed": true
   },
   "outputs": [],
   "source": [
    "src_directory = '/Users/rwilliams/Desktop/myra/src'\n",
    "dest_directory = '/Users/rwilliams/Desktop/myra/dest'"
   ]
  },
  {
   "cell_type": "markdown",
   "metadata": {},
   "source": [
    "# Imports and helper functions"
   ]
  },
  {
   "cell_type": "code",
   "execution_count": 11,
   "metadata": {},
   "outputs": [
    {
     "data": {
      "text/plain": [
       "960"
      ]
     },
     "execution_count": 11,
     "metadata": {},
     "output_type": "execute_result"
    }
   ],
   "source": [
    "1080 - 120"
   ]
  },
  {
   "cell_type": "code",
   "execution_count": 16,
   "metadata": {
    "collapsed": true
   },
   "outputs": [],
   "source": [
    "import matplotlib.pyplot as plt\n",
    "import numpy as np\n",
    "import scipy as sp\n",
    "import skimage.exposure\n",
    "from skimage.transform import resize\n",
    "from skimage.util import crop\n",
    "import os\n",
    "%matplotlib inline\n",
    "\n",
    "def resize_crop(img):\n",
    "    crop1 = ((60, 60), (0, 960), (0, 0))\n",
    "    crop2 = ((60, 60), (960, 0), (0, 0))\n",
    "    crops = [crop1, crop2]\n",
    "    \n",
    "    processed = [sp.misc.imresize(crop(img, i), (128, 128), interp='bicubic') for i in crops]\n",
    "    return processed\n",
    "\n",
    "def load_img(id):\n",
    "    filename = '%06d.png' % id\n",
    "    path = os.path.join(src_directory, filename)\n",
    "    return sp.ndimage.imread(path)\n",
    "\n",
    "def save_img(img, id):\n",
    "    filename = '%06d.jpg' % id\n",
    "    path = os.path.join(dest_directory, filename)\n",
    "    sp.misc.imsave(path, img)"
   ]
  },
  {
   "cell_type": "code",
   "execution_count": 19,
   "metadata": {},
   "outputs": [],
   "source": [
    "save_idx = 1\n",
    "for i in range(1521):\n",
    "    img = load_img(i+1)\n",
    "    cimg1, cimg2 = resize_crop(img)\n",
    "    save_img(cimg1, save_idx)\n",
    "    save_idx += 1\n",
    "    save_img(cimg2, save_idx)\n",
    "    save_idx += 1"
   ]
  }
 ],
 "metadata": {
  "kernelspec": {
   "display_name": "Python 3",
   "language": "python",
   "name": "python3"
  },
  "language_info": {
   "codemirror_mode": {
    "name": "ipython",
    "version": 3
   },
   "file_extension": ".py",
   "mimetype": "text/x-python",
   "name": "python",
   "nbconvert_exporter": "python",
   "pygments_lexer": "ipython3",
   "version": "3.6.2"
  }
 },
 "nbformat": 4,
 "nbformat_minor": 2
}
