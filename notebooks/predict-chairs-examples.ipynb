{
 "cells": [
  {
   "cell_type": "code",
   "execution_count": 32,
   "metadata": {},
   "outputs": [
    {
     "name": "stdout",
     "output_type": "stream",
     "text": [
      "[[50  0]\n",
      " [ 0 50]]\n"
     ]
    }
   ],
   "source": [
    "from sklearn.preprocessing import StandardScaler\n",
    "from sklearn.tree import DecisionTreeClassifier\n",
    "from sklearn.model_selection import cross_val_predict\n",
    "from sklearn.metrics import confusion_matrix\n",
    "import numpy as np\n",
    "\n",
    "# Most machine learning algorithms expect training data to be scaled so that \n",
    "# data values are between 0 and 1 or near 0. The chair genome data is already centered around\n",
    "# 0 but its good practice to scale it anyway.\n",
    "# This creates a scaler object\n",
    "scaler = StandardScaler()\n",
    "\n",
    "# Create a decision tree machine learning classifier\n",
    "dt = DecisionTreeClassifier(max_depth=10)\n",
    "\n",
    "# Create \"training data\" which is really just 100\n",
    "x_raw = np.random.normal(size=(100,3))\n",
    "training = scaler.fit_transform(x_raw)\n",
    "\n",
    "labels = np.greater(training[:,0], 0)\n",
    "# labels = np.random.randint(0, 2, size=(100,))\n",
    "\n",
    "Ypred = cross_val_predict(dt, training, labels, cv=10)\n",
    "print(confusion_matrix(labels, Ypred))"
   ]
  },
  {
   "cell_type": "code",
   "execution_count": 35,
   "metadata": {},
   "outputs": [
    {
     "data": {
      "text/plain": [
       "array([ True])"
      ]
     },
     "execution_count": 35,
     "metadata": {},
     "output_type": "execute_result"
    }
   ],
   "source": [
    "dt.fit(training, labels)\n",
    "dt.predict([[.5, .5, .5]])"
   ]
  }
 ],
 "metadata": {
  "kernelspec": {
   "display_name": "Python 3",
   "language": "python",
   "name": "python3"
  },
  "language_info": {
   "codemirror_mode": {
    "name": "ipython",
    "version": 3
   },
   "file_extension": ".py",
   "mimetype": "text/x-python",
   "name": "python",
   "nbconvert_exporter": "python",
   "pygments_lexer": "ipython3",
   "version": "3.6.4"
  }
 },
 "nbformat": 4,
 "nbformat_minor": 2
}
