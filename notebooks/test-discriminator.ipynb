{
 "cells": [
  {
   "cell_type": "markdown",
   "metadata": {},
   "source": [
    "# Global params"
   ]
  },
  {
   "cell_type": "code",
   "execution_count": 1,
   "metadata": {
    "collapsed": true
   },
   "outputs": [],
   "source": [
    "img_directory = '/home/ec2-user/autoencoder-vaegan/colbert'\n",
    "batch_size = 8\n",
    "training_set_size = 3264\n",
    "img_size = 128"
   ]
  },
  {
   "cell_type": "markdown",
   "metadata": {},
   "source": [
    "# Imports and helper functions"
   ]
  },
  {
   "cell_type": "code",
   "execution_count": 2,
   "metadata": {
    "collapsed": true
   },
   "outputs": [],
   "source": [
    "import matplotlib.pyplot as plt\n",
    "import numpy as np\n",
    "import scipy as sp\n",
    "import os\n",
    "from utils import load_img, resize_crop\n",
    "%matplotlib inline\n",
    "\n",
    "def imshow(imgs):\n",
    "    fig = plt.figure()\n",
    "    nimgs = len(imgs)\n",
    "    for i in range(nimgs):\n",
    "        a=fig.add_subplot(1,nimgs,i+1)\n",
    "        plt.imshow(imgs[i])\n",
    "        plt.axis('off')"
   ]
  },
  {
   "cell_type": "markdown",
   "metadata": {},
   "source": [
    "# Load training data"
   ]
  },
  {
   "cell_type": "code",
   "execution_count": 3,
   "metadata": {},
   "outputs": [
    {
     "name": "stderr",
     "output_type": "stream",
     "text": [
      "/home/ec2-user/.conda/envs/keras/lib/python3.6/site-packages/skimage/transform/_warps.py:84: UserWarning: The default mode, 'constant', will be changed to 'reflect' in skimage 0.15.\n",
      "  warn(\"The default mode, 'constant', will be changed to 'reflect' in \"\n"
     ]
    }
   ],
   "source": [
    "training = np.array([resize_crop(load_img(i+1, img_directory), (img_size, img_size)) for i in range(training_set_size)])"
   ]
  },
  {
   "cell_type": "markdown",
   "metadata": {},
   "source": [
    "# Create model and load weights"
   ]
  },
  {
   "cell_type": "markdown",
   "metadata": {},
   "source": [
    "Instantiate model"
   ]
  },
  {
   "cell_type": "code",
   "execution_count": 4,
   "metadata": {
    "scrolled": true
   },
   "outputs": [
    {
     "name": "stderr",
     "output_type": "stream",
     "text": [
      "Using TensorFlow backend.\n"
     ]
    },
    {
     "data": {
      "text/plain": [
       "<keras.engine.training.Model at 0x7fb405ee0978>"
      ]
     },
     "execution_count": 4,
     "metadata": {},
     "output_type": "execute_result"
    }
   ],
   "source": [
    "from discriminator import Discriminator\n",
    "\n",
    "model = Discriminator(img_shape=(img_size, img_size, 3), batch_size=batch_size)\n",
    "model.build_model()"
   ]
  },
  {
   "cell_type": "code",
   "execution_count": 11,
   "metadata": {},
   "outputs": [
    {
     "data": {
      "text/plain": [
       "(8, 5, 5, 1)"
      ]
     },
     "execution_count": 11,
     "metadata": {},
     "output_type": "execute_result"
    }
   ],
   "source": [
    "y = model.model.predict(training[:batch_size], batch_size=batch_size)\n",
    "y[0].shape"
   ]
  },
  {
   "cell_type": "markdown",
   "metadata": {},
   "source": [
    "# Train"
   ]
  },
  {
   "cell_type": "markdown",
   "metadata": {},
   "source": [
    "Reset image save filename counter"
   ]
  },
  {
   "cell_type": "code",
   "execution_count": 15,
   "metadata": {
    "collapsed": true
   },
   "outputs": [],
   "source": [
    "save_idx = 0"
   ]
  },
  {
   "cell_type": "markdown",
   "metadata": {},
   "source": [
    "Define some useful Keras callbacks"
   ]
  },
  {
   "cell_type": "code",
   "execution_count": 22,
   "metadata": {
    "collapsed": true
   },
   "outputs": [],
   "source": [
    "from keras.callbacks import ReduceLROnPlateau\n",
    "reduce_lr = ReduceLROnPlateau(monitor='loss', factor=0.5, patience=3, min_lr=0.000000000001)    "
   ]
  },
  {
   "cell_type": "code",
   "execution_count": null,
   "metadata": {
    "scrolled": false
   },
   "outputs": [
    {
     "name": "stdout",
     "output_type": "stream",
     "text": [
      "Epoch 1/1\n",
      "3264/3264 [==============================] - 23s - loss: 2.2449    \n",
      "Epoch 1/1\n",
      "3264/3264 [==============================] - 23s - loss: 2.1951    \n",
      "Epoch 1/1\n",
      "3264/3264 [==============================] - 23s - loss: 2.1419    \n",
      "Epoch 1/1\n",
      "3264/3264 [==============================] - 23s - loss: 2.1199    \n",
      "Epoch 1/1\n",
      "3264/3264 [==============================] - 23s - loss: 2.2771    \n",
      "Epoch 1/1\n",
      "3264/3264 [==============================] - 23s - loss: 2.3218    \n",
      "Epoch 1/1\n",
      "3264/3264 [==============================] - 23s - loss: 2.1935    \n",
      "Epoch 1/1\n",
      "3264/3264 [==============================] - 23s - loss: 2.4709    \n",
      "Epoch 1/1\n",
      "3264/3264 [==============================] - 23s - loss: 2.0550    \n",
      "Epoch 1/1\n",
      "3264/3264 [==============================] - 23s - loss: 2.1861    \n",
      "Epoch 1/1\n",
      "3264/3264 [==============================] - 23s - loss: 2.1341    \n",
      "Epoch 1/1\n",
      "3264/3264 [==============================] - 23s - loss: 2.1063    \n",
      "Epoch 1/1\n",
      "3264/3264 [==============================] - 23s - loss: 2.0277    \n",
      "Epoch 1/1\n",
      "3264/3264 [==============================] - 23s - loss: 2.0572    \n",
      "Epoch 1/1\n",
      "3264/3264 [==============================] - 23s - loss: 2.1091    \n",
      "Epoch 1/1\n",
      "3264/3264 [==============================] - 23s - loss: 2.1304    \n",
      "Epoch 1/1\n",
      "3264/3264 [==============================] - 23s - loss: 2.0817    \n",
      "Epoch 1/1\n",
      "3264/3264 [==============================] - 23s - loss: 2.1088    \n",
      "Epoch 1/1\n",
      "3264/3264 [==============================] - 23s - loss: 2.0433    \n",
      "Epoch 1/1\n",
      "3264/3264 [==============================] - 23s - loss: 2.0720    \n",
      "Epoch 1/1\n",
      "3264/3264 [==============================] - 23s - loss: 1.9762    \n",
      "Epoch 1/1\n",
      "3264/3264 [==============================] - 23s - loss: 1.8572    \n",
      "Epoch 1/1\n",
      "3264/3264 [==============================] - 23s - loss: 1.9779    \n",
      "Epoch 1/1\n",
      "3264/3264 [==============================] - 23s - loss: 1.9334    \n",
      "Epoch 1/1\n",
      "3264/3264 [==============================] - 23s - loss: 2.0829    \n",
      "Epoch 1/1\n",
      "3264/3264 [==============================] - 23s - loss: 2.1254    \n",
      "Epoch 1/1\n",
      "3264/3264 [==============================] - 23s - loss: 2.0950    \n",
      "Epoch 1/1\n",
      "3264/3264 [==============================] - 23s - loss: 2.0049    \n",
      "Epoch 1/1\n",
      "3264/3264 [==============================] - 23s - loss: 2.0346    \n",
      "Epoch 1/1\n",
      "3264/3264 [==============================] - 23s - loss: 1.9960    \n",
      "Epoch 1/1\n",
      "3264/3264 [==============================] - 23s - loss: 2.1429    \n",
      "Epoch 1/1\n",
      "3264/3264 [==============================] - 23s - loss: 1.8533    \n",
      "Epoch 1/1\n",
      "3264/3264 [==============================] - 23s - loss: 1.9544    \n",
      "Epoch 1/1\n",
      "3264/3264 [==============================] - 23s - loss: 1.8628    \n",
      "Epoch 1/1\n",
      "3264/3264 [==============================] - 23s - loss: 1.9333    \n",
      "Epoch 1/1\n",
      "3264/3264 [==============================] - 23s - loss: 1.8413    \n",
      "Epoch 1/1\n",
      "3264/3264 [==============================] - 23s - loss: 1.8688    \n",
      "Epoch 1/1\n",
      "3264/3264 [==============================] - 23s - loss: 1.8105    \n",
      "Epoch 1/1\n",
      "3264/3264 [==============================] - 23s - loss: 1.7558    \n",
      "Epoch 1/1\n",
      "3264/3264 [==============================] - 23s - loss: 1.8035    \n",
      "Epoch 1/1\n",
      "3264/3264 [==============================] - 23s - loss: 1.8264    \n",
      "Epoch 1/1\n",
      "3264/3264 [==============================] - 23s - loss: 1.7702    \n",
      "Epoch 1/1\n",
      "3264/3264 [==============================] - 23s - loss: 1.7998    \n",
      "Epoch 1/1\n",
      "3264/3264 [==============================] - 23s - loss: 1.8732    \n",
      "Epoch 1/1\n",
      "3264/3264 [==============================] - 23s - loss: 1.8175    \n",
      "Epoch 1/1\n",
      "3264/3264 [==============================] - 23s - loss: 1.6987    \n",
      "Epoch 1/1\n",
      "3264/3264 [==============================] - 23s - loss: 1.9272    \n",
      "Epoch 1/1\n",
      "3264/3264 [==============================] - 23s - loss: 1.8175    \n",
      "Epoch 1/1\n",
      "3264/3264 [==============================] - 23s - loss: 1.7580    \n",
      "Epoch 1/1\n",
      "3264/3264 [==============================] - 23s - loss: 1.7305    \n",
      "Epoch 1/1\n",
      "3264/3264 [==============================] - 23s - loss: 1.9206    \n",
      "Epoch 1/1\n",
      "3264/3264 [==============================] - 23s - loss: 1.6718    \n",
      "Epoch 1/1\n",
      "3264/3264 [==============================] - 23s - loss: 1.8880    \n",
      "Epoch 1/1\n",
      "3264/3264 [==============================] - 23s - loss: 2.0021    \n",
      "Epoch 1/1\n",
      "3264/3264 [==============================] - 23s - loss: 1.9155    \n",
      "Epoch 1/1\n",
      "3264/3264 [==============================] - 23s - loss: 1.6368    \n",
      "Epoch 1/1\n",
      "3264/3264 [==============================] - 23s - loss: 1.6059    \n",
      "Epoch 1/1\n",
      "3264/3264 [==============================] - 23s - loss: 1.7281    \n",
      "Epoch 1/1\n",
      "3264/3264 [==============================] - 23s - loss: 1.7274    \n",
      "Epoch 1/1\n",
      "3264/3264 [==============================] - 23s - loss: 1.6478    \n",
      "Epoch 1/1\n",
      "3264/3264 [==============================] - 23s - loss: 1.6881    \n",
      "Epoch 1/1\n",
      "3264/3264 [==============================] - 23s - loss: 1.6693    \n",
      "Epoch 1/1\n",
      "3264/3264 [==============================] - 23s - loss: 1.6759    \n",
      "Epoch 1/1\n",
      "3264/3264 [==============================] - 23s - loss: 1.6494    \n",
      "Epoch 1/1\n",
      "3264/3264 [==============================] - 23s - loss: 1.7572    \n",
      "Epoch 1/1\n",
      "3264/3264 [==============================] - 23s - loss: 1.8225    \n",
      "Epoch 1/1\n",
      "3264/3264 [==============================] - 23s - loss: 1.8075    \n",
      "Epoch 1/1\n",
      "3264/3264 [==============================] - 23s - loss: 1.6819    \n",
      "Epoch 1/1\n",
      "3264/3264 [==============================] - 23s - loss: 1.6538    \n",
      "Epoch 1/1\n",
      "3264/3264 [==============================] - 23s - loss: 1.6060    \n",
      "Epoch 1/1\n",
      "3264/3264 [==============================] - 23s - loss: 1.6169    \n",
      "Epoch 1/1\n",
      "3264/3264 [==============================] - 23s - loss: 1.6245    \n",
      "Epoch 1/1\n",
      "3264/3264 [==============================] - 23s - loss: 1.6361    \n",
      "Epoch 1/1\n",
      "3264/3264 [==============================] - 23s - loss: 1.5998    \n",
      "Epoch 1/1\n",
      "3264/3264 [==============================] - 23s - loss: 1.8751    \n",
      "Epoch 1/1\n",
      "3264/3264 [==============================] - 23s - loss: 1.6350    \n",
      "Epoch 1/1\n",
      "1280/3264 [==========>...................] - ETA: 14s - loss: 1.6144"
     ]
    }
   ],
   "source": [
    "# save an image of prediction before training\n",
    "# predictions = model.model.predict(training[:batch_size], batch_size=batch_size)\n",
    "# path = os.path.join(img_save_directory, '%04d.jpg' % save_idx)\n",
    "# sp.misc.imsave(path, predictions[0])\n",
    "# save_idx += 1\n",
    "\n",
    "start = save_idx\n",
    "stop = save_idx + 1000\n",
    "\n",
    "for i in range(start, stop):\n",
    "    model.model.fit(x=training, y=training, epochs=1, batch_size=batch_size, verbose=True, callbacks=[reduce_lr])\n",
    "    predictions = model.model.predict(training[:batch_size], batch_size=batch_size)\n",
    "    path = os.path.join(img_save_directory, '%04d.jpg' % i)\n",
    "    sp.misc.imsave(path, predictions[0])\n",
    "    model.model.save_weights(model_weights_path)\n",
    "    save_idx = i"
   ]
  },
  {
   "cell_type": "code",
   "execution_count": 57,
   "metadata": {
    "scrolled": true
   },
   "outputs": [
    {
     "data": {
      "image/png": "[encoded data removed]",
      "text/plain": [
       "<matplotlib.figure.Figure at 0x7ff13b3f73c8>"
      ]
     },
     "metadata": {},
     "output_type": "display_data"
    }
   ],
   "source": [
    "predictions = model.model.predict(training[:batch_size], batch_size=batch_size)\n",
    "imshow([predictions[0], predictions[7]])"
   ]
  }
 ],
 "metadata": {
  "kernelspec": {
   "display_name": "Python 3",
   "language": "python",
   "name": "python3"
  },
  "language_info": {
   "codemirror_mode": {
    "name": "ipython",
    "version": 3
   },
   "file_extension": ".py",
   "mimetype": "text/x-python",
   "name": "python",
   "nbconvert_exporter": "python",
   "pygments_lexer": "ipython3",
   "version": "3.6.3"
  }
 },
 "nbformat": 4,
 "nbformat_minor": 2
}
