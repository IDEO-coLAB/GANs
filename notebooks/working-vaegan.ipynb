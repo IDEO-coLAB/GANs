{
 "cells": [
  {
   "cell_type": "markdown",
   "metadata": {},
   "source": [
    "# tried\n",
    "\n",
    "1. Adam, lr=.0003, gamma=1e-2\n",
    "- Adam, lr=0.0001, gamma=1e-2\n",
    "- Adam, lr=0.0001, beta1=0.5, gamma=1e-2\n",
    "- Adam, lr=0.0001, beta1=0.5, decoder + noise, mean=0, stddev=1.0\n",
    "- Adam, lr=0.0001, beta1=0.5, decoder loss = similarity only. \n",
    "    - This gets faces early, but quality of faces plateaus as discriminator gets too good. (Might want to try larger training set size than 512).\n",
    "- Adam, lr=0.0001, beta1=0.5, decoder loss = similarity only.\n",
    "- Adam, lr=0.0001, beta1=0.5, decoder loss = similarity + 0.1 * disc\n",
    "    - Both vae and x discriminator out go to 0, decoder wins\n",
    "- Adam, lr=0.0001, beta1=0.5, decoder loss = similarity + 0.01 * disc\n",
    "    - Both vae and x discriminator out go to 0, decoder wins\n",
    "- Adam, lr=0.0001, beta1=0.5, decoder loss = similarity only, training set = 5000\n",
    "    - Still looks like the discriminator is going to win but the rate at which the discriminator loss drops is slower than in 5 and image output is better.\n",
    "\n",
    "#### Adam, lr=0.0001, beta1=0.5, training set = 5000\n",
    "1. decoder loss = similarity only, vae and x noise sigma 10.0\n",
    "- moved similarity to after 1st conv in discriminator (prev. after 3rd), vae and x noise sigma 1.0, training 2x discr for each generator. \n",
    "    - Artifacts of first layer conv and weird coloring (blue and purple). Not sure why. Is there something wrong with the architecture?\n",
    "- similarity to after 4th conv in discriminator (prev. after 3rd), vae and x noise sigma 1.0, training 2x discr for each generator. \n",
    "\n",
    "    \n",
    "Try and see what happens with larger training sets where there is similarity and disc loss.\n",
    "\n",
    "\n"
   ]
  },
  {
   "cell_type": "code",
   "execution_count": 1,
   "metadata": {
    "collapsed": true
   },
   "outputs": [],
   "source": [
    "# discriminator loss thresholds:\n",
    "# below 0.3 stop training disc\n",
    "# above 0.5 train disc"
   ]
  },
  {
   "cell_type": "code",
   "execution_count": 2,
   "metadata": {
    "collapsed": true
   },
   "outputs": [],
   "source": [
    "# Setup\n",
    "\n",
    "# img_directory = '/Users/rwilliams/Desktop/celeba/training'\n",
    "img_directory = '/home/ec2-user/training-data/img_align_celeba'\n",
    "model_save_path = '/home/ec2-user/tf-checkpoints/vaegan-celeba/checkpoint.ckpt'\n",
    "outputs_directory = '/home/ec2-user/outputs/vaegan-celeba'\n",
    "log_directory = '/home/ec2-user/tf-logs/vaegan-celeba'\n",
    "\n",
    "batch_size = 64\n",
    "training_set_size = 5000\n",
    "img_size = 64\n",
    "learning_rate = 0.0001\n",
    "beta1 = 0.5\n",
    "\n",
    "zsize = 128\n",
    "\n",
    "# weights similarity loss term for decoder loss\n",
    "# loss_gamma = 1e-2"
   ]
  },
  {
   "cell_type": "code",
   "execution_count": 3,
   "metadata": {
    "collapsed": true
   },
   "outputs": [],
   "source": [
    "# Jupyter imports\n",
    "\n",
    "# import matplotlib.pyplot as plt\n",
    "# %matplotlib inline"
   ]
  },
  {
   "cell_type": "code",
   "execution_count": 4,
   "metadata": {
    "collapsed": true
   },
   "outputs": [],
   "source": [
    "import numpy as np\n",
    "import scipy as sp\n",
    "import os\n",
    "from utils import imshow, resize_crop, load_img, pixels01, pixels11"
   ]
  },
  {
   "cell_type": "code",
   "execution_count": 5,
   "metadata": {},
   "outputs": [
    {
     "name": "stderr",
     "output_type": "stream",
     "text": [
      "/home/ec2-user/.conda/envs/keras/lib/python3.6/site-packages/skimage/transform/_warps.py:84: UserWarning: The default mode, 'constant', will be changed to 'reflect' in skimage 0.15.\n",
      "  warn(\"The default mode, 'constant', will be changed to 'reflect' in \"\n"
     ]
    }
   ],
   "source": [
    "# load training data\n",
    "training = np.array([resize_crop(load_img(i+1, img_directory), (img_size, img_size)) for i in range(training_set_size)])\n",
    "# rescale each pixel to [-1, 1]. Supposed to help with GANs\n",
    "training = pixels11(training)"
   ]
  },
  {
   "cell_type": "markdown",
   "metadata": {},
   "source": [
    "# Build graph"
   ]
  },
  {
   "cell_type": "code",
   "execution_count": 6,
   "metadata": {
    "scrolled": false
   },
   "outputs": [],
   "source": [
    "# create models\n",
    "\n",
    "import tensorflow as tf\n",
    "from autoencoder import Autoencoder\n",
    "from discriminator import Discriminator\n",
    "tf.reset_default_graph()\n",
    "tf.set_random_seed(42.0)\n",
    "\n",
    "# input images feed\n",
    "X = tf.placeholder(tf.float32, [None, img_size, img_size, 3])\n",
    "\n",
    "# for feeding random draws of z (latent variable)\n",
    "Z = tf.placeholder(tf.float32, [None, zsize])\n",
    "\n",
    "# flags to pass to networks to set batch normalization layers\n",
    "# as trainable or not\n",
    "encoder_batch_trainable = tf.placeholder(tf.bool)\n",
    "decoder_batch_trainable = tf.placeholder(tf.bool)\n",
    "disc_batch_trainable = tf.placeholder(tf.bool)\n",
    "\n",
    "# encoder, decoder that will be connected to a discriminator\n",
    "vae = Autoencoder(img_shape=(img_size, img_size, 3), zsize=zsize)\n",
    "encoder = vae.encoder(X, encoder_batch_trainable)\n",
    "decoder = vae.decoder(encoder, decoder_batch_trainable)\n",
    "\n",
    "# a second decoder for decoding samplings of z\n",
    "# decoder_z_obj = Autoencoder(img_shape=(img_size, img_size, 3), zsize=zsize)\n",
    "# decoder_z = decoder_z_obj.decoder(Z, decoder_batch_trainable, reuse=True)\n",
    "\n",
    "# add noise to decoder generated images and inputs\n",
    "decoder_plus_noise = decoder + tf.random_normal(\n",
    "    shape=(batch_size, img_size, img_size, 3), mean=0.0, stddev=1.0)\n",
    "\n",
    "X_plus_noise = X + tf.random_normal(\n",
    "    shape=(batch_size, img_size, img_size, 3), mean=0.0, stddev=1.0)\n",
    "\n",
    "# discriminator attached to vae output\n",
    "disc_vae_obj = Discriminator(img_shape=(img_size, img_size, 3))\n",
    "disc_vae_obj.disc(decoder_plus_noise, disc_batch_trainable)\n",
    "disc_vae_logits = disc_vae_obj.logits\n",
    "\n",
    "# discriminator attached to X input\n",
    "# shares weights with other discriminator\n",
    "disc_x_obj = Discriminator(img_shape=(img_size, img_size, 3))\n",
    "disc_x_obj.disc(X_plus_noise, disc_batch_trainable, reuse=True)\n",
    "disc_x_logits = disc_x_obj.logits\n",
    "\n",
    "# discriminator attached to random Zs passed through decoder\n",
    "# shares weights with other discriminator\n",
    "# disc_z_obj = Discriminator(img_shape=(img_size, img_size, 3))\n",
    "# disc_z_obj.disc(decoder_z, disc_batch_trainable, reuse=True)\n",
    "# disc_z_logits = disc_z_obj.logits"
   ]
  },
  {
   "cell_type": "markdown",
   "metadata": {},
   "source": [
    "# Loss functions and optimizers"
   ]
  },
  {
   "cell_type": "code",
   "execution_count": 7,
   "metadata": {
    "collapsed": true
   },
   "outputs": [],
   "source": [
    "# set up loss functions and training_ops\n",
    "\n",
    "# latent loss used for training encoder\n",
    "latent_loss = vae.latent_loss()\n",
    "\n",
    "# loss that uses decoder to determine similarity between\n",
    "# actual input images and output images from the vae\n",
    "similarity_xentropy = tf.nn.sigmoid_cross_entropy_with_logits(\n",
    "    labels=disc_x_obj.similarity, \n",
    "    logits=disc_vae_obj.similarity)\n",
    "similarity_loss = tf.reduce_mean(similarity_xentropy)\n",
    "\n",
    "# losses for the discriminator's output. Labels are real: 0, fake: 1.\n",
    "# cross entropy with 1 labels, since training prob that image is fake\n",
    "disc_vae_loss = tf.reduce_mean(tf.nn.sigmoid_cross_entropy_with_logits(\n",
    "    labels=tf.ones_like(disc_vae_logits),\n",
    "    logits=disc_vae_logits))\n",
    "\n",
    "# cross entropy with 0 labels, since training prob that image is fake\n",
    "disc_x_loss = tf.reduce_mean(tf.nn.sigmoid_cross_entropy_with_logits(\n",
    "    labels=tf.zeros_like(disc_x_logits),\n",
    "    logits=disc_x_logits))\n",
    "\n",
    "# cross entropy with 1 labels, since training prob that image is fake\n",
    "# disc_z_loss = tf.reduce_mean(tf.nn.sigmoid_cross_entropy_with_logits(\n",
    "#     labels=tf.ones_like(disc_z_logits),\n",
    "#     logits=disc_z_logits))\n",
    "\n",
    "# minimize these with optimizer\n",
    "# disc_loss = disc_vae_loss + disc_x_loss + disc_z_loss\n",
    "disc_loss = disc_vae_loss + disc_x_loss\n",
    "encoder_loss = latent_loss + similarity_loss\n",
    "\n",
    "# decoder_loss = loss_gamma * similarity_loss - disc_loss\n",
    "decoder_loss = similarity_loss\n",
    "\n",
    "# get weights to train for each of encoder, decoder, etc.\n",
    "# pass this to optimizer so it only trains w.r.t the network\n",
    "# we want to train and just uses other parts of the network as is\n",
    "# (for example use the discriminator to compute a loss during training\n",
    "# of the encoder, but don't adjust weights of the discriminator)\n",
    "\n",
    "encoder_vars = [i for i in tf.trainable_variables() if 'encoder' in i.name]\n",
    "decoder_vars = [i for i in tf.trainable_variables() if 'decoder' in i.name]\n",
    "disc_vars = [i for i in tf.trainable_variables() if 'discriminator' in i.name]\n",
    "\n",
    "encoder_update_ops = [i for i in tf.get_collection(tf.GraphKeys.UPDATE_OPS) if 'encoder' in i.name]\n",
    "decoder_update_ops = [i for i in tf.get_collection(tf.GraphKeys.UPDATE_OPS) if 'decoder' in i.name]\n",
    "disc_update_ops = [i for i in tf.get_collection(tf.GraphKeys.UPDATE_OPS) if 'discriminator' in i.name]\n",
    "\n",
    "optimizer = tf.train.AdamOptimizer(learning_rate=learning_rate, beta1=beta1)\n",
    "    \n",
    "with tf.control_dependencies(encoder_update_ops):\n",
    "    train_encoder = optimizer.minimize(encoder_loss, var_list=encoder_vars)\n",
    "    \n",
    "with tf.control_dependencies(decoder_update_ops):\n",
    "    train_decoder = optimizer.minimize(decoder_loss, var_list=decoder_vars)\n",
    "\n",
    "with tf.control_dependencies(disc_update_ops):\n",
    "    train_disc = optimizer.minimize(disc_loss, var_list=disc_vars)\n",
    "\n",
    "saver = tf.train.Saver()"
   ]
  },
  {
   "cell_type": "markdown",
   "metadata": {},
   "source": [
    "# Init session"
   ]
  },
  {
   "cell_type": "code",
   "execution_count": 8,
   "metadata": {},
   "outputs": [
    {
     "name": "stdout",
     "output_type": "stream",
     "text": [
      "trying to restore session\n",
      "INFO:tensorflow:Restoring parameters from /home/ec2-user/tf-checkpoints/vaegan-celeba/checkpoint.ckpt\n",
      "failed to restore session, creating a new one\n"
     ]
    }
   ],
   "source": [
    "# create or restore session\n",
    "\n",
    "sess = tf.InteractiveSession()\n",
    "try:\n",
    "    print('trying to restore session')\n",
    "    saver.restore(sess, model_save_path)\n",
    "    print('restored session')\n",
    "except:\n",
    "    print('failed to restore session, creating a new one')\n",
    "    tf.global_variables_initializer().run()\n",
    "\n",
    "# write logs for tensorboard\n",
    "writer = tf.summary.FileWriter(log_directory, sess.graph)"
   ]
  },
  {
   "cell_type": "code",
   "execution_count": 9,
   "metadata": {},
   "outputs": [],
   "source": [
    "# collect data for tensorboard\n",
    "\n",
    "disc_vae_out = tf.reduce_mean(tf.sigmoid(disc_vae_logits))\n",
    "disc_x_out = tf.reduce_mean(tf.sigmoid(disc_x_logits))\n",
    "# disc_z_out = tf.reduce_mean(tf.sigmoid(disc_z_logits))\n",
    "\n",
    "tf.summary.scalar('encoder_loss', encoder_loss)\n",
    "tf.summary.scalar('decoder_loss', decoder_loss)\n",
    "tf.summary.scalar('discriminator_loss', disc_loss)\n",
    "tf.summary.scalar('similarity_loss', similarity_loss)\n",
    "tf.summary.scalar('disc_vae_loss', disc_vae_loss)\n",
    "tf.summary.scalar('disc_x_loss', disc_x_loss)\n",
    "# tf.summary.scalar('disc_z_loss', disc_z_loss)\n",
    "tf.summary.scalar('latent_loss', latent_loss)\n",
    "\n",
    "tf.summary.scalar('disc_vae_out', disc_vae_out)\n",
    "tf.summary.scalar('disc_x_out', disc_x_out)\n",
    "# tf.summary.scalar('disc_z_out', disc_z_out)\n",
    "\n",
    "merged_summary = tf.summary.merge_all()"
   ]
  },
  {
   "cell_type": "code",
   "execution_count": 10,
   "metadata": {
    "collapsed": true
   },
   "outputs": [],
   "source": [
    "img_idx = 0"
   ]
  },
  {
   "cell_type": "markdown",
   "metadata": {},
   "source": [
    "# Train"
   ]
  },
  {
   "cell_type": "code",
   "execution_count": 12,
   "metadata": {
    "scrolled": false
   },
   "outputs": [
    {
     "name": "stdout",
     "output_type": "stream",
     "text": [
      "epoch 0 ........................................................................................................................................................................................................................................................................................................................\n",
      "saving session\n"
     ]
    },
    {
     "ename": "InvalidArgumentError",
     "evalue": "Incompatible shapes: [128,64,64,3] vs. [64,64,64,3]\n\t [[Node: add_2 = Add[T=DT_FLOAT, _device=\"/job:localhost/replica:0/task:0/gpu:0\"](_arg_Placeholder_0_0/_1637, random_normal_1)]]\n\t [[Node: latent_loss/mul/_1679 = _Recv[client_terminated=false, recv_device=\"/job:localhost/replica:0/task:0/cpu:0\", send_device=\"/job:localhost/replica:0/task:0/gpu:0\", send_device_incarnation=1, tensor_name=\"edge_646_latent_loss/mul\", tensor_type=DT_FLOAT, _device=\"/job:localhost/replica:0/task:0/cpu:0\"]()]]\n\nCaused by op 'add_2', defined at:\n  File \"/home/ec2-user/.conda/envs/keras/lib/python3.6/runpy.py\", line 193, in _run_module_as_main\n    \"__main__\", mod_spec)\n  File \"/home/ec2-user/.conda/envs/keras/lib/python3.6/runpy.py\", line 85, in _run_code\n    exec(code, run_globals)\n  File \"/home/ec2-user/.conda/envs/keras/lib/python3.6/site-packages/ipykernel_launcher.py\", line 16, in <module>\n    app.launch_new_instance()\n  File \"/home/ec2-user/.conda/envs/keras/lib/python3.6/site-packages/traitlets/config/application.py\", line 658, in launch_instance\n    app.start()\n  File \"/home/ec2-user/.conda/envs/keras/lib/python3.6/site-packages/ipykernel/kernelapp.py\", line 477, in start\n    ioloop.IOLoop.instance().start()\n  File \"/home/ec2-user/.conda/envs/keras/lib/python3.6/site-packages/zmq/eventloop/ioloop.py\", line 177, in start\n    super(ZMQIOLoop, self).start()\n  File \"/home/ec2-user/.conda/envs/keras/lib/python3.6/site-packages/tornado/ioloop.py\", line 888, in start\n    handler_func(fd_obj, events)\n  File \"/home/ec2-user/.conda/envs/keras/lib/python3.6/site-packages/tornado/stack_context.py\", line 277, in null_wrapper\n    return fn(*args, **kwargs)\n  File \"/home/ec2-user/.conda/envs/keras/lib/python3.6/site-packages/zmq/eventloop/zmqstream.py\", line 440, in _handle_events\n    self._handle_recv()\n  File \"/home/ec2-user/.conda/envs/keras/lib/python3.6/site-packages/zmq/eventloop/zmqstream.py\", line 472, in _handle_recv\n    self._run_callback(callback, msg)\n  File \"/home/ec2-user/.conda/envs/keras/lib/python3.6/site-packages/zmq/eventloop/zmqstream.py\", line 414, in _run_callback\n    callback(*args, **kwargs)\n  File \"/home/ec2-user/.conda/envs/keras/lib/python3.6/site-packages/tornado/stack_context.py\", line 277, in null_wrapper\n    return fn(*args, **kwargs)\n  File \"/home/ec2-user/.conda/envs/keras/lib/python3.6/site-packages/ipykernel/kernelbase.py\", line 283, in dispatcher\n    return self.dispatch_shell(stream, msg)\n  File \"/home/ec2-user/.conda/envs/keras/lib/python3.6/site-packages/ipykernel/kernelbase.py\", line 235, in dispatch_shell\n    handler(stream, idents, msg)\n  File \"/home/ec2-user/.conda/envs/keras/lib/python3.6/site-packages/ipykernel/kernelbase.py\", line 399, in execute_request\n    user_expressions, allow_stdin)\n  File \"/home/ec2-user/.conda/envs/keras/lib/python3.6/site-packages/ipykernel/ipkernel.py\", line 196, in do_execute\n    res = shell.run_cell(code, store_history=store_history, silent=silent)\n  File \"/home/ec2-user/.conda/envs/keras/lib/python3.6/site-packages/ipykernel/zmqshell.py\", line 533, in run_cell\n    return super(ZMQInteractiveShell, self).run_cell(*args, **kwargs)\n  File \"/home/ec2-user/.conda/envs/keras/lib/python3.6/site-packages/IPython/core/interactiveshell.py\", line 2698, in run_cell\n    interactivity=interactivity, compiler=compiler, result=result)\n  File \"/home/ec2-user/.conda/envs/keras/lib/python3.6/site-packages/IPython/core/interactiveshell.py\", line 2802, in run_ast_nodes\n    if self.run_code(code, result):\n  File \"/home/ec2-user/.conda/envs/keras/lib/python3.6/site-packages/IPython/core/interactiveshell.py\", line 2862, in run_code\n    exec(code_obj, self.user_global_ns, self.user_ns)\n  File \"<ipython-input-6-d999dd2fb11d>\", line 35, in <module>\n    shape=(batch_size, img_size, img_size, 3), mean=0.0, stddev=1.0)\n  File \"/home/ec2-user/.conda/envs/keras/lib/python3.6/site-packages/tensorflow/python/ops/math_ops.py\", line 865, in binary_op_wrapper\n    return func(x, y, name=name)\n  File \"/home/ec2-user/.conda/envs/keras/lib/python3.6/site-packages/tensorflow/python/ops/gen_math_ops.py\", line 80, in add\n    result = _op_def_lib.apply_op(\"Add\", x=x, y=y, name=name)\n  File \"/home/ec2-user/.conda/envs/keras/lib/python3.6/site-packages/tensorflow/python/framework/op_def_library.py\", line 767, in apply_op\n    op_def=op_def)\n  File \"/home/ec2-user/.conda/envs/keras/lib/python3.6/site-packages/tensorflow/python/framework/ops.py\", line 2630, in create_op\n    original_op=self._default_original_op, op_def=op_def)\n  File \"/home/ec2-user/.conda/envs/keras/lib/python3.6/site-packages/tensorflow/python/framework/ops.py\", line 1204, in __init__\n    self._traceback = self._graph._extract_stack()  # pylint: disable=protected-access\n\nInvalidArgumentError (see above for traceback): Incompatible shapes: [128,64,64,3] vs. [64,64,64,3]\n\t [[Node: add_2 = Add[T=DT_FLOAT, _device=\"/job:localhost/replica:0/task:0/gpu:0\"](_arg_Placeholder_0_0/_1637, random_normal_1)]]\n\t [[Node: latent_loss/mul/_1679 = _Recv[client_terminated=false, recv_device=\"/job:localhost/replica:0/task:0/cpu:0\", send_device=\"/job:localhost/replica:0/task:0/gpu:0\", send_device_incarnation=1, tensor_name=\"edge_646_latent_loss/mul\", tensor_type=DT_FLOAT, _device=\"/job:localhost/replica:0/task:0/cpu:0\"]()]]\n",
     "output_type": "error",
     "traceback": [
      "\u001b[0;31m---------------------------------------------------------------------------\u001b[0m",
      "\u001b[0;31mInvalidArgumentError\u001b[0m                      Traceback (most recent call last)",
      "\u001b[0;32m~/.conda/envs/keras/lib/python3.6/site-packages/tensorflow/python/client/session.py\u001b[0m in \u001b[0;36m_do_call\u001b[0;34m(self, fn, *args)\u001b[0m\n\u001b[1;32m   1326\u001b[0m     \u001b[0;32mtry\u001b[0m\u001b[0;34m:\u001b[0m\u001b[0;34m\u001b[0m\u001b[0m\n\u001b[0;32m-> 1327\u001b[0;31m       \u001b[0;32mreturn\u001b[0m \u001b[0mfn\u001b[0m\u001b[0;34m(\u001b[0m\u001b[0;34m*\u001b[0m\u001b[0margs\u001b[0m\u001b[0;34m)\u001b[0m\u001b[0;34m\u001b[0m\u001b[0m\n\u001b[0m\u001b[1;32m   1328\u001b[0m     \u001b[0;32mexcept\u001b[0m \u001b[0merrors\u001b[0m\u001b[0;34m.\u001b[0m\u001b[0mOpError\u001b[0m \u001b[0;32mas\u001b[0m \u001b[0me\u001b[0m\u001b[0;34m:\u001b[0m\u001b[0;34m\u001b[0m\u001b[0m\n",
      "\u001b[0;32m~/.conda/envs/keras/lib/python3.6/site-packages/tensorflow/python/client/session.py\u001b[0m in \u001b[0;36m_run_fn\u001b[0;34m(session, feed_dict, fetch_list, target_list, options, run_metadata)\u001b[0m\n\u001b[1;32m   1305\u001b[0m                                    \u001b[0mfeed_dict\u001b[0m\u001b[0;34m,\u001b[0m \u001b[0mfetch_list\u001b[0m\u001b[0;34m,\u001b[0m \u001b[0mtarget_list\u001b[0m\u001b[0;34m,\u001b[0m\u001b[0;34m\u001b[0m\u001b[0m\n\u001b[0;32m-> 1306\u001b[0;31m                                    status, run_metadata)\n\u001b[0m\u001b[1;32m   1307\u001b[0m \u001b[0;34m\u001b[0m\u001b[0m\n",
      "\u001b[0;32m~/.conda/envs/keras/lib/python3.6/contextlib.py\u001b[0m in \u001b[0;36m__exit__\u001b[0;34m(self, type, value, traceback)\u001b[0m\n\u001b[1;32m     87\u001b[0m             \u001b[0;32mtry\u001b[0m\u001b[0;34m:\u001b[0m\u001b[0;34m\u001b[0m\u001b[0m\n\u001b[0;32m---> 88\u001b[0;31m                 \u001b[0mnext\u001b[0m\u001b[0;34m(\u001b[0m\u001b[0mself\u001b[0m\u001b[0;34m.\u001b[0m\u001b[0mgen\u001b[0m\u001b[0;34m)\u001b[0m\u001b[0;34m\u001b[0m\u001b[0m\n\u001b[0m\u001b[1;32m     89\u001b[0m             \u001b[0;32mexcept\u001b[0m \u001b[0mStopIteration\u001b[0m\u001b[0;34m:\u001b[0m\u001b[0;34m\u001b[0m\u001b[0m\n",
      "\u001b[0;32m~/.conda/envs/keras/lib/python3.6/site-packages/tensorflow/python/framework/errors_impl.py\u001b[0m in \u001b[0;36mraise_exception_on_not_ok_status\u001b[0;34m()\u001b[0m\n\u001b[1;32m    465\u001b[0m           \u001b[0mcompat\u001b[0m\u001b[0;34m.\u001b[0m\u001b[0mas_text\u001b[0m\u001b[0;34m(\u001b[0m\u001b[0mpywrap_tensorflow\u001b[0m\u001b[0;34m.\u001b[0m\u001b[0mTF_Message\u001b[0m\u001b[0;34m(\u001b[0m\u001b[0mstatus\u001b[0m\u001b[0;34m)\u001b[0m\u001b[0;34m)\u001b[0m\u001b[0;34m,\u001b[0m\u001b[0;34m\u001b[0m\u001b[0m\n\u001b[0;32m--> 466\u001b[0;31m           pywrap_tensorflow.TF_GetCode(status))\n\u001b[0m\u001b[1;32m    467\u001b[0m   \u001b[0;32mfinally\u001b[0m\u001b[0;34m:\u001b[0m\u001b[0;34m\u001b[0m\u001b[0m\n",
      "\u001b[0;31mInvalidArgumentError\u001b[0m: Incompatible shapes: [128,64,64,3] vs. [64,64,64,3]\n\t [[Node: add_2 = Add[T=DT_FLOAT, _device=\"/job:localhost/replica:0/task:0/gpu:0\"](_arg_Placeholder_0_0/_1637, random_normal_1)]]\n\t [[Node: latent_loss/mul/_1679 = _Recv[client_terminated=false, recv_device=\"/job:localhost/replica:0/task:0/cpu:0\", send_device=\"/job:localhost/replica:0/task:0/gpu:0\", send_device_incarnation=1, tensor_name=\"edge_646_latent_loss/mul\", tensor_type=DT_FLOAT, _device=\"/job:localhost/replica:0/task:0/cpu:0\"]()]]",
      "\nDuring handling of the above exception, another exception occurred:\n",
      "\u001b[0;31mInvalidArgumentError\u001b[0m                      Traceback (most recent call last)",
      "\u001b[0;32m<ipython-input-12-2eabcb487114>\u001b[0m in \u001b[0;36m<module>\u001b[0;34m()\u001b[0m\n\u001b[1;32m     67\u001b[0m             \u001b[0mencoder_batch_trainable\u001b[0m\u001b[0;34m:\u001b[0m \u001b[0;32mFalse\u001b[0m\u001b[0;34m,\u001b[0m\u001b[0;34m\u001b[0m\u001b[0m\n\u001b[1;32m     68\u001b[0m             \u001b[0mdecoder_batch_trainable\u001b[0m\u001b[0;34m:\u001b[0m \u001b[0;32mFalse\u001b[0m\u001b[0;34m,\u001b[0m\u001b[0;34m\u001b[0m\u001b[0m\n\u001b[0;32m---> 69\u001b[0;31m             \u001b[0mdisc_batch_trainable\u001b[0m\u001b[0;34m:\u001b[0m \u001b[0;32mFalse\u001b[0m\u001b[0;34m\u001b[0m\u001b[0m\n\u001b[0m\u001b[1;32m     70\u001b[0m         })\n\u001b[1;32m     71\u001b[0m         \u001b[0mwriter\u001b[0m\u001b[0;34m.\u001b[0m\u001b[0madd_summary\u001b[0m\u001b[0;34m(\u001b[0m\u001b[0msummary\u001b[0m\u001b[0;34m,\u001b[0m \u001b[0mepoch\u001b[0m\u001b[0;34m)\u001b[0m\u001b[0;34m\u001b[0m\u001b[0m\n",
      "\u001b[0;32m~/.conda/envs/keras/lib/python3.6/site-packages/tensorflow/python/framework/ops.py\u001b[0m in \u001b[0;36meval\u001b[0;34m(self, feed_dict, session)\u001b[0m\n\u001b[1;32m    539\u001b[0m \u001b[0;34m\u001b[0m\u001b[0m\n\u001b[1;32m    540\u001b[0m     \"\"\"\n\u001b[0;32m--> 541\u001b[0;31m     \u001b[0;32mreturn\u001b[0m \u001b[0m_eval_using_default_session\u001b[0m\u001b[0;34m(\u001b[0m\u001b[0mself\u001b[0m\u001b[0;34m,\u001b[0m \u001b[0mfeed_dict\u001b[0m\u001b[0;34m,\u001b[0m \u001b[0mself\u001b[0m\u001b[0;34m.\u001b[0m\u001b[0mgraph\u001b[0m\u001b[0;34m,\u001b[0m \u001b[0msession\u001b[0m\u001b[0;34m)\u001b[0m\u001b[0;34m\u001b[0m\u001b[0m\n\u001b[0m\u001b[1;32m    542\u001b[0m \u001b[0;34m\u001b[0m\u001b[0m\n\u001b[1;32m    543\u001b[0m \u001b[0;34m\u001b[0m\u001b[0m\n",
      "\u001b[0;32m~/.conda/envs/keras/lib/python3.6/site-packages/tensorflow/python/framework/ops.py\u001b[0m in \u001b[0;36m_eval_using_default_session\u001b[0;34m(tensors, feed_dict, graph, session)\u001b[0m\n\u001b[1;32m   4083\u001b[0m                        \u001b[0;34m\"the tensor's graph is different from the session's \"\u001b[0m\u001b[0;34m\u001b[0m\u001b[0m\n\u001b[1;32m   4084\u001b[0m                        \"graph.\")\n\u001b[0;32m-> 4085\u001b[0;31m   \u001b[0;32mreturn\u001b[0m \u001b[0msession\u001b[0m\u001b[0;34m.\u001b[0m\u001b[0mrun\u001b[0m\u001b[0;34m(\u001b[0m\u001b[0mtensors\u001b[0m\u001b[0;34m,\u001b[0m \u001b[0mfeed_dict\u001b[0m\u001b[0;34m)\u001b[0m\u001b[0;34m\u001b[0m\u001b[0m\n\u001b[0m\u001b[1;32m   4086\u001b[0m \u001b[0;34m\u001b[0m\u001b[0m\n\u001b[1;32m   4087\u001b[0m \u001b[0;34m\u001b[0m\u001b[0m\n",
      "\u001b[0;32m~/.conda/envs/keras/lib/python3.6/site-packages/tensorflow/python/client/session.py\u001b[0m in \u001b[0;36mrun\u001b[0;34m(self, fetches, feed_dict, options, run_metadata)\u001b[0m\n\u001b[1;32m    893\u001b[0m     \u001b[0;32mtry\u001b[0m\u001b[0;34m:\u001b[0m\u001b[0;34m\u001b[0m\u001b[0m\n\u001b[1;32m    894\u001b[0m       result = self._run(None, fetches, feed_dict, options_ptr,\n\u001b[0;32m--> 895\u001b[0;31m                          run_metadata_ptr)\n\u001b[0m\u001b[1;32m    896\u001b[0m       \u001b[0;32mif\u001b[0m \u001b[0mrun_metadata\u001b[0m\u001b[0;34m:\u001b[0m\u001b[0;34m\u001b[0m\u001b[0m\n\u001b[1;32m    897\u001b[0m         \u001b[0mproto_data\u001b[0m \u001b[0;34m=\u001b[0m \u001b[0mtf_session\u001b[0m\u001b[0;34m.\u001b[0m\u001b[0mTF_GetBuffer\u001b[0m\u001b[0;34m(\u001b[0m\u001b[0mrun_metadata_ptr\u001b[0m\u001b[0;34m)\u001b[0m\u001b[0;34m\u001b[0m\u001b[0m\n",
      "\u001b[0;32m~/.conda/envs/keras/lib/python3.6/site-packages/tensorflow/python/client/session.py\u001b[0m in \u001b[0;36m_run\u001b[0;34m(self, handle, fetches, feed_dict, options, run_metadata)\u001b[0m\n\u001b[1;32m   1122\u001b[0m     \u001b[0;32mif\u001b[0m \u001b[0mfinal_fetches\u001b[0m \u001b[0;32mor\u001b[0m \u001b[0mfinal_targets\u001b[0m \u001b[0;32mor\u001b[0m \u001b[0;34m(\u001b[0m\u001b[0mhandle\u001b[0m \u001b[0;32mand\u001b[0m \u001b[0mfeed_dict_tensor\u001b[0m\u001b[0;34m)\u001b[0m\u001b[0;34m:\u001b[0m\u001b[0;34m\u001b[0m\u001b[0m\n\u001b[1;32m   1123\u001b[0m       results = self._do_run(handle, final_targets, final_fetches,\n\u001b[0;32m-> 1124\u001b[0;31m                              feed_dict_tensor, options, run_metadata)\n\u001b[0m\u001b[1;32m   1125\u001b[0m     \u001b[0;32melse\u001b[0m\u001b[0;34m:\u001b[0m\u001b[0;34m\u001b[0m\u001b[0m\n\u001b[1;32m   1126\u001b[0m       \u001b[0mresults\u001b[0m \u001b[0;34m=\u001b[0m \u001b[0;34m[\u001b[0m\u001b[0;34m]\u001b[0m\u001b[0;34m\u001b[0m\u001b[0m\n",
      "\u001b[0;32m~/.conda/envs/keras/lib/python3.6/site-packages/tensorflow/python/client/session.py\u001b[0m in \u001b[0;36m_do_run\u001b[0;34m(self, handle, target_list, fetch_list, feed_dict, options, run_metadata)\u001b[0m\n\u001b[1;32m   1319\u001b[0m     \u001b[0;32mif\u001b[0m \u001b[0mhandle\u001b[0m \u001b[0;32mis\u001b[0m \u001b[0;32mNone\u001b[0m\u001b[0;34m:\u001b[0m\u001b[0;34m\u001b[0m\u001b[0m\n\u001b[1;32m   1320\u001b[0m       return self._do_call(_run_fn, self._session, feeds, fetches, targets,\n\u001b[0;32m-> 1321\u001b[0;31m                            options, run_metadata)\n\u001b[0m\u001b[1;32m   1322\u001b[0m     \u001b[0;32melse\u001b[0m\u001b[0;34m:\u001b[0m\u001b[0;34m\u001b[0m\u001b[0m\n\u001b[1;32m   1323\u001b[0m       \u001b[0;32mreturn\u001b[0m \u001b[0mself\u001b[0m\u001b[0;34m.\u001b[0m\u001b[0m_do_call\u001b[0m\u001b[0;34m(\u001b[0m\u001b[0m_prun_fn\u001b[0m\u001b[0;34m,\u001b[0m \u001b[0mself\u001b[0m\u001b[0;34m.\u001b[0m\u001b[0m_session\u001b[0m\u001b[0;34m,\u001b[0m \u001b[0mhandle\u001b[0m\u001b[0;34m,\u001b[0m \u001b[0mfeeds\u001b[0m\u001b[0;34m,\u001b[0m \u001b[0mfetches\u001b[0m\u001b[0;34m)\u001b[0m\u001b[0;34m\u001b[0m\u001b[0m\n",
      "\u001b[0;32m~/.conda/envs/keras/lib/python3.6/site-packages/tensorflow/python/client/session.py\u001b[0m in \u001b[0;36m_do_call\u001b[0;34m(self, fn, *args)\u001b[0m\n\u001b[1;32m   1338\u001b[0m         \u001b[0;32mexcept\u001b[0m \u001b[0mKeyError\u001b[0m\u001b[0;34m:\u001b[0m\u001b[0;34m\u001b[0m\u001b[0m\n\u001b[1;32m   1339\u001b[0m           \u001b[0;32mpass\u001b[0m\u001b[0;34m\u001b[0m\u001b[0m\n\u001b[0;32m-> 1340\u001b[0;31m       \u001b[0;32mraise\u001b[0m \u001b[0mtype\u001b[0m\u001b[0;34m(\u001b[0m\u001b[0me\u001b[0m\u001b[0;34m)\u001b[0m\u001b[0;34m(\u001b[0m\u001b[0mnode_def\u001b[0m\u001b[0;34m,\u001b[0m \u001b[0mop\u001b[0m\u001b[0;34m,\u001b[0m \u001b[0mmessage\u001b[0m\u001b[0;34m)\u001b[0m\u001b[0;34m\u001b[0m\u001b[0m\n\u001b[0m\u001b[1;32m   1341\u001b[0m \u001b[0;34m\u001b[0m\u001b[0m\n\u001b[1;32m   1342\u001b[0m   \u001b[0;32mdef\u001b[0m \u001b[0m_extend_graph\u001b[0m\u001b[0;34m(\u001b[0m\u001b[0mself\u001b[0m\u001b[0;34m)\u001b[0m\u001b[0;34m:\u001b[0m\u001b[0;34m\u001b[0m\u001b[0m\n",
      "\u001b[0;31mInvalidArgumentError\u001b[0m: Incompatible shapes: [128,64,64,3] vs. [64,64,64,3]\n\t [[Node: add_2 = Add[T=DT_FLOAT, _device=\"/job:localhost/replica:0/task:0/gpu:0\"](_arg_Placeholder_0_0/_1637, random_normal_1)]]\n\t [[Node: latent_loss/mul/_1679 = _Recv[client_terminated=false, recv_device=\"/job:localhost/replica:0/task:0/cpu:0\", send_device=\"/job:localhost/replica:0/task:0/gpu:0\", send_device_incarnation=1, tensor_name=\"edge_646_latent_loss/mul\", tensor_type=DT_FLOAT, _device=\"/job:localhost/replica:0/task:0/cpu:0\"]()]]\n\nCaused by op 'add_2', defined at:\n  File \"/home/ec2-user/.conda/envs/keras/lib/python3.6/runpy.py\", line 193, in _run_module_as_main\n    \"__main__\", mod_spec)\n  File \"/home/ec2-user/.conda/envs/keras/lib/python3.6/runpy.py\", line 85, in _run_code\n    exec(code, run_globals)\n  File \"/home/ec2-user/.conda/envs/keras/lib/python3.6/site-packages/ipykernel_launcher.py\", line 16, in <module>\n    app.launch_new_instance()\n  File \"/home/ec2-user/.conda/envs/keras/lib/python3.6/site-packages/traitlets/config/application.py\", line 658, in launch_instance\n    app.start()\n  File \"/home/ec2-user/.conda/envs/keras/lib/python3.6/site-packages/ipykernel/kernelapp.py\", line 477, in start\n    ioloop.IOLoop.instance().start()\n  File \"/home/ec2-user/.conda/envs/keras/lib/python3.6/site-packages/zmq/eventloop/ioloop.py\", line 177, in start\n    super(ZMQIOLoop, self).start()\n  File \"/home/ec2-user/.conda/envs/keras/lib/python3.6/site-packages/tornado/ioloop.py\", line 888, in start\n    handler_func(fd_obj, events)\n  File \"/home/ec2-user/.conda/envs/keras/lib/python3.6/site-packages/tornado/stack_context.py\", line 277, in null_wrapper\n    return fn(*args, **kwargs)\n  File \"/home/ec2-user/.conda/envs/keras/lib/python3.6/site-packages/zmq/eventloop/zmqstream.py\", line 440, in _handle_events\n    self._handle_recv()\n  File \"/home/ec2-user/.conda/envs/keras/lib/python3.6/site-packages/zmq/eventloop/zmqstream.py\", line 472, in _handle_recv\n    self._run_callback(callback, msg)\n  File \"/home/ec2-user/.conda/envs/keras/lib/python3.6/site-packages/zmq/eventloop/zmqstream.py\", line 414, in _run_callback\n    callback(*args, **kwargs)\n  File \"/home/ec2-user/.conda/envs/keras/lib/python3.6/site-packages/tornado/stack_context.py\", line 277, in null_wrapper\n    return fn(*args, **kwargs)\n  File \"/home/ec2-user/.conda/envs/keras/lib/python3.6/site-packages/ipykernel/kernelbase.py\", line 283, in dispatcher\n    return self.dispatch_shell(stream, msg)\n  File \"/home/ec2-user/.conda/envs/keras/lib/python3.6/site-packages/ipykernel/kernelbase.py\", line 235, in dispatch_shell\n    handler(stream, idents, msg)\n  File \"/home/ec2-user/.conda/envs/keras/lib/python3.6/site-packages/ipykernel/kernelbase.py\", line 399, in execute_request\n    user_expressions, allow_stdin)\n  File \"/home/ec2-user/.conda/envs/keras/lib/python3.6/site-packages/ipykernel/ipkernel.py\", line 196, in do_execute\n    res = shell.run_cell(code, store_history=store_history, silent=silent)\n  File \"/home/ec2-user/.conda/envs/keras/lib/python3.6/site-packages/ipykernel/zmqshell.py\", line 533, in run_cell\n    return super(ZMQInteractiveShell, self).run_cell(*args, **kwargs)\n  File \"/home/ec2-user/.conda/envs/keras/lib/python3.6/site-packages/IPython/core/interactiveshell.py\", line 2698, in run_cell\n    interactivity=interactivity, compiler=compiler, result=result)\n  File \"/home/ec2-user/.conda/envs/keras/lib/python3.6/site-packages/IPython/core/interactiveshell.py\", line 2802, in run_ast_nodes\n    if self.run_code(code, result):\n  File \"/home/ec2-user/.conda/envs/keras/lib/python3.6/site-packages/IPython/core/interactiveshell.py\", line 2862, in run_code\n    exec(code_obj, self.user_global_ns, self.user_ns)\n  File \"<ipython-input-6-d999dd2fb11d>\", line 35, in <module>\n    shape=(batch_size, img_size, img_size, 3), mean=0.0, stddev=1.0)\n  File \"/home/ec2-user/.conda/envs/keras/lib/python3.6/site-packages/tensorflow/python/ops/math_ops.py\", line 865, in binary_op_wrapper\n    return func(x, y, name=name)\n  File \"/home/ec2-user/.conda/envs/keras/lib/python3.6/site-packages/tensorflow/python/ops/gen_math_ops.py\", line 80, in add\n    result = _op_def_lib.apply_op(\"Add\", x=x, y=y, name=name)\n  File \"/home/ec2-user/.conda/envs/keras/lib/python3.6/site-packages/tensorflow/python/framework/op_def_library.py\", line 767, in apply_op\n    op_def=op_def)\n  File \"/home/ec2-user/.conda/envs/keras/lib/python3.6/site-packages/tensorflow/python/framework/ops.py\", line 2630, in create_op\n    original_op=self._default_original_op, op_def=op_def)\n  File \"/home/ec2-user/.conda/envs/keras/lib/python3.6/site-packages/tensorflow/python/framework/ops.py\", line 1204, in __init__\n    self._traceback = self._graph._extract_stack()  # pylint: disable=protected-access\n\nInvalidArgumentError (see above for traceback): Incompatible shapes: [128,64,64,3] vs. [64,64,64,3]\n\t [[Node: add_2 = Add[T=DT_FLOAT, _device=\"/job:localhost/replica:0/task:0/gpu:0\"](_arg_Placeholder_0_0/_1637, random_normal_1)]]\n\t [[Node: latent_loss/mul/_1679 = _Recv[client_terminated=false, recv_device=\"/job:localhost/replica:0/task:0/cpu:0\", send_device=\"/job:localhost/replica:0/task:0/gpu:0\", send_device_incarnation=1, tensor_name=\"edge_646_latent_loss/mul\", tensor_type=DT_FLOAT, _device=\"/job:localhost/replica:0/task:0/cpu:0\"]()]]\n"
     ]
    }
   ],
   "source": [
    "import math\n",
    "epochs = 10000\n",
    "batches = int(float(training_set_size) / batch_size)\n",
    "# number of iterations to train per epoch, so I can easily\n",
    "# train, e.g. 2x disc for each encoder, decoder; or skip trianing\n",
    "do_train = {\n",
    "    'encoder': 1,\n",
    "    'decoder': 1,\n",
    "    'disc':    2\n",
    "}\n",
    "\n",
    "for epoch in range(epochs):\n",
    "    print ('epoch %s ' % epoch, end='')\n",
    "    zdraws = np.random.normal(size=(training_set_size, zsize))\n",
    "    \n",
    "    # train discriminator\n",
    "    for _ in range(do_train['disc']):\n",
    "        for batch in range(batches):\n",
    "            xfeed = training[batch*batch_size:(batch+1)*batch_size]\n",
    "            zfeed = zdraws[batch*batch_size:(batch+1)*batch_size]\n",
    "            sess.run(train_disc, feed_dict={\n",
    "                X: xfeed, \n",
    "                Z: zfeed,\n",
    "                encoder_batch_trainable: False,\n",
    "                decoder_batch_trainable: False,\n",
    "                disc_batch_trainable: True\n",
    "            })\n",
    "            print('.', end='')\n",
    "\n",
    "    # train encoder\n",
    "    for _ in range(do_train['encoder']):\n",
    "        for batch in range(batches):\n",
    "            xfeed = training[batch*batch_size:(batch+1)*batch_size]\n",
    "            sess.run(train_encoder, feed_dict={\n",
    "                X: xfeed,\n",
    "                encoder_batch_trainable: True,\n",
    "                decoder_batch_trainable: False,\n",
    "                disc_batch_trainable: False\n",
    "                })\n",
    "            print('.', end='')\n",
    "        \n",
    "    # train decoder\n",
    "    for _ in range(do_train['decoder']):\n",
    "        for batch in range(batches):\n",
    "            xfeed = training[batch*batch_size:(batch+1)*batch_size]\n",
    "            zfeed = zdraws[batch*batch_size:(batch+1)*batch_size]\n",
    "            sess.run(train_decoder, feed_dict={\n",
    "                X: xfeed, \n",
    "                Z: zfeed,\n",
    "                encoder_batch_trainable: False,\n",
    "                decoder_batch_trainable: True,\n",
    "                disc_batch_trainable: False\n",
    "            })\n",
    "            print('.', end='')\n",
    "        \n",
    "    print('')\n",
    "    \n",
    "    if (epoch % 1 == 0):\n",
    "        print('saving session', flush=True)\n",
    "        saver.save(sess, model_save_path)\n",
    "                \n",
    "        xfeed = training[:2*batch_size]\n",
    "        zfeed = zdraws[:2*batch_size]\n",
    "        summary = merged_summary.eval(feed_dict={\n",
    "            X: xfeed, \n",
    "            Z: zfeed,\n",
    "            encoder_batch_trainable: False,\n",
    "            decoder_batch_trainable: False,\n",
    "            disc_batch_trainable: False\n",
    "        })\n",
    "        writer.add_summary(summary, epoch)\n",
    "                    \n",
    "        example = decoder.eval(feed_dict={\n",
    "            X: training[1:2],\n",
    "            encoder_batch_trainable: False,\n",
    "            decoder_batch_trainable: False,\n",
    "            disc_batch_trainable: False\n",
    "        })\n",
    "        img_save_path = os.path.join(outputs_directory, '%06d.jpg' % img_idx)\n",
    "        img_idx += 1\n",
    "        sp.misc.imsave(img_save_path, pixels01(example[0]))"
   ]
  }
 ],
 "metadata": {
  "kernelspec": {
   "display_name": "Python 3",
   "language": "python",
   "name": "python3"
  },
  "language_info": {
   "codemirror_mode": {
    "name": "ipython",
    "version": 3
   },
   "file_extension": ".py",
   "mimetype": "text/x-python",
   "name": "python",
   "nbconvert_exporter": "python",
   "pygments_lexer": "ipython3",
   "version": "3.6.3"
  }
 },
 "nbformat": 4,
 "nbformat_minor": 2
}
